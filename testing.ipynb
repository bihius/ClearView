{
 "cells": [
  {
   "cell_type": "code",
   "id": "initial_id",
   "metadata": {
    "collapsed": true,
    "ExecuteTime": {
     "end_time": "2024-06-07T07:10:24.947561Z",
     "start_time": "2024-06-07T07:10:24.512844Z"
    }
   },
   "source": [
    "import os\n",
    "import requests\n",
    "from dotenv import load_dotenv\n",
    "import json\n",
    "import psycopg2\n",
    "from psycopg2 import sql\n",
    "\n",
    "# Załaduj zmienne środowiskowe z pliku .env\n",
    "load_dotenv()\n",
    "\n",
    "SUPABASE_URL = \"http://10.15.10.254:8000\"\n",
    "SUPABASE_API_KEY = \"eyJhbGciOiJIUzI1NiIsInR5cCI6IkpXVCJ9.eyAgCiAgICAicm9sZSI6ICJzZXJ2aWNlX3JvbGUiLAogICAgImlzcyI6ICJzdXBhYmFzZS1kZW1vIiwKICAgICJpYXQiOiAxNjQxNzY5MjAwLAogICAgImV4cCI6IDE3OTk1MzU2MDAKfQ.DaYlNEoUrrEn2Ig7tqibS-PHK5vgusbcbo7X36XVt4Q\"\n",
    "POSTGRES_USER = os.getenv('DB_USER')\n",
    "POSTGRES_PASSWORD = os.getenv('DB_PASSWORD')\n",
    "POSTGRES_DB = os.getenv('DB_NAME')\n",
    "POSTGRES_HOST = os.getenv('DB_HOST')\n",
    "POSTGRES_PORT = os.getenv('DB_PORT')\n",
    "\n",
    "def generate_service_role_key():\n",
    "    url = f\"{SUPABASE_URL}/auth/v1/admin/users\"\n",
    "    headers = {\n",
    "        \"apiKey\": SUPABASE_API_KEY,\n",
    "        \"Authorization\": f\"Bearer {SUPABASE_API_KEY}\",\n",
    "        \"Content-Type\": \"application/json\"\n",
    "    }\n",
    "    data = {\n",
    "        \"email\": \"k.kasperkiewicz@proton.me\",\n",
    "        \"password\": \"test12345\",\n",
    "        \"role\": \"service_role\"\n",
    "    }\n",
    "\n",
    "    response = requests.post(url, headers=headers, json=data)\n",
    "    if response.status_code == 200:\n",
    "        return response.json()\n",
    "    else:\n",
    "        print(f\"Error generating service role key: {response.status_code}, {response.text}\")\n",
    "        return None\n",
    "\n",
    "def confirm_user_email_in_db(user_id):\n",
    "    try:\n",
    "        db_name = os.getenv(\"DB_NAME\")\n",
    "        db_user = os.getenv(\"DB_USER\")\n",
    "        db_password = os.getenv(\"DB_PASSWORD\")\n",
    "        db_host = os.getenv(\"DB_HOST\")\n",
    "        db_port = os.getenv(\"DB_PORT\")\n",
    "    \n",
    "        conn = psycopg2.connect(\n",
    "        dbname=db_name,\n",
    "        user=db_user,\n",
    "        password=db_password,\n",
    "        host=db_host,\n",
    "        port=db_port\n",
    "    )\n",
    "        cursor = conn.cursor()\n",
    "        query = sql.SQL(\"UPDATE auth.users SET email_confirmed_at = now() WHERE id = %s\")\n",
    "        cursor.execute(query, (user_id,))\n",
    "        conn.commit()\n",
    "        cursor.close()\n",
    "        conn.close()\n",
    "        print(\"Email confirmed in database successfully.\")\n",
    "    except Exception as e:\n",
    "        print(f\"Error confirming email in database: {e}\")\n",
    "\n",
    "def login_user(email, password):\n",
    "    url = f\"{SUPABASE_URL}/auth/v1/token?grant_type=password\"\n",
    "    headers = {\n",
    "        \"Content-Type\": \"application/json\",\n",
    "        \"apikey\": SUPABASE_API_KEY,\n",
    "    }\n",
    "    data = {\n",
    "        \"email\": email,\n",
    "        \"password\": password\n",
    "    }\n",
    "\n",
    "    response = requests.post(url, headers=headers, json=data)\n",
    "    if response.status_code == 200:\n",
    "        return response.json()\n",
    "    else:\n",
    "        print(f\"Error logging in: {response.status_code}, {response.text}\")\n",
    "        return None\n",
    "\n",
    "def main():\n",
    "    user_data = generate_service_role_key()\n",
    "    if user_data:\n",
    "        user_id = user_data['id']\n",
    "        confirm_user_email_in_db(user_id)\n",
    "        \n",
    "        login_response = login_user(user_data['email'], \"test12345\")\n",
    "        if login_response:\n",
    "            new_token = login_response['access_token']\n",
    "            print(f\"Generated new token: {new_token}\")\n",
    "            # Możesz teraz użyć tego tokenu do dalszych operacji\n",
    "            headers = {\n",
    "                \"apiKey\": new_token,\n",
    "                \"Authorization\": f\"Bearer {new_token}\"\n",
    "            }\n",
    "            # Przykładowe zapytanie do Supabase\n",
    "            response = requests.get(f\"{SUPABASE_URL}/rest/v1/your-table\", headers=headers)\n",
    "            print(response.json())\n",
    "        else:\n",
    "            print(\"Failed to log in and get a new token.\")\n",
    "    else:\n",
    "        print(\"Failed to generate a new user.\")\n",
    "\n",
    "if __name__ == \"__main__\":\n",
    "    main()\n"
   ],
   "outputs": [
    {
     "name": "stdout",
     "output_type": "stream",
     "text": [
      "Error confirming email in database: connection to server at \"127.0.0.1\", port 5432 failed: Connection refused\n",
      "\tIs the server running on that host and accepting TCP/IP connections?\n",
      "\n",
      "Error logging in: 400, {\"error\":\"invalid_grant\",\"error_description\":\"Email not confirmed\"}\n",
      "Failed to log in and get a new token.\n"
     ]
    }
   ],
   "execution_count": 27
  },
  {
   "metadata": {
    "ExecuteTime": {
     "end_time": "2024-06-07T06:54:38.947152Z",
     "start_time": "2024-06-07T06:54:36.883196Z"
    }
   },
   "cell_type": "code",
   "source": "!pip install python-dotenv",
   "id": "fac9b11a9627b6a0",
   "outputs": [
    {
     "name": "stdout",
     "output_type": "stream",
     "text": [
      "Requirement already satisfied: python-dotenv in ./venv/lib/python3.11/site-packages (1.0.1)\r\n"
     ]
    }
   ],
   "execution_count": 14
  },
  {
   "metadata": {},
   "cell_type": "code",
   "outputs": [],
   "execution_count": null,
   "source": "",
   "id": "da264395985ad19a"
  }
 ],
 "metadata": {
  "kernelspec": {
   "display_name": "Python 3",
   "language": "python",
   "name": "python3"
  },
  "language_info": {
   "codemirror_mode": {
    "name": "ipython",
    "version": 2
   },
   "file_extension": ".py",
   "mimetype": "text/x-python",
   "name": "python",
   "nbconvert_exporter": "python",
   "pygments_lexer": "ipython2",
   "version": "2.7.6"
  }
 },
 "nbformat": 4,
 "nbformat_minor": 5
}
